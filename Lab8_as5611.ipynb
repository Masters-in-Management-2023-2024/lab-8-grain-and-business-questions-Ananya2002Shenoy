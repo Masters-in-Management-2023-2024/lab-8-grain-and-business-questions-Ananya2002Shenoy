{
  "cells": [
    {
      "cell_type": "markdown",
      "metadata": {
        "id": "mns2xU0x2r34"
      },
      "source": [
        "# Diamond Company Analytics Challenge\n",
        "\n",
        "**Time:** 35 minutes\n",
        "\n",
        "**Scenario:** You are the new data analyst at a prestigious diamond company. The CEO has called an urgent meeting and needs answers to critical business questions about the inventory.\n",
        "\n",
        "**Your Mission:** Analyze the diamond inventory data and provide insights to guide strategic decisions."
      ]
    },
    {
      "cell_type": "code",
      "execution_count": 3,
      "metadata": {
        "colab": {
          "base_uri": "https://localhost:8080/"
        },
        "id": "SozInAGQ2r36",
        "outputId": "9b3ec305-6a72-44e8-9de8-2c32590ed2d5"
      },
      "outputs": [
        {
          "output_type": "stream",
          "name": "stdout",
          "text": [
            "Loading diamonds dataset...\n",
            "Dataset loaded successfully!\n"
          ]
        }
      ],
      "source": [
        "import polars as pl\n",
        "\n",
        "# Load the diamonds dataset\n",
        "print(\"Loading diamonds dataset...\")\n",
        "df = pl.read_csv('https://raw.githubusercontent.com/pycaret/pycaret/master/datasets/diamond.csv')\n",
        "print(\"Dataset loaded successfully!\")"
      ]
    },
    {
      "cell_type": "markdown",
      "metadata": {
        "id": "hqlz8fAR2r36"
      },
      "source": [
        "## Section 1: Initial Inventory Assessment (5 minutes)\n",
        "\n",
        "The CEO walks in: \"Before we dive into specifics, I need to understand what we're working with. Give me the basics about our inventory database.\""
      ]
    },
    {
      "cell_type": "markdown",
      "metadata": {
        "id": "7fWQCnBl2r37"
      },
      "source": [
        "### Question 1: \"How extensive is our inventory database?\"\n",
        "\n",
        "The CEO needs to know the scale of data you're analyzing."
      ]
    },
    {
      "cell_type": "code",
      "source": [
        "# Your code here:\n",
        "n_rows = df.height\n",
        "n_cols = df.width\n",
        "print(f\"Our inventory database has {n_rows} rows and {n_cols} columns.\")"
      ],
      "metadata": {
        "colab": {
          "base_uri": "https://localhost:8080/"
        },
        "id": "PLfG3UscKlX0",
        "outputId": "2f142f68-3807-4c4b-a752-0ca3ccf14628"
      },
      "execution_count": 16,
      "outputs": [
        {
          "output_type": "stream",
          "name": "stdout",
          "text": [
            "Our inventory database has 6000 rows and 8 columns.\n"
          ]
        }
      ]
    },
    {
      "cell_type": "markdown",
      "metadata": {
        "id": "ezXBNa0H2r37"
      },
      "source": [
        "### Question 2: \"What information do we track about each diamond?\"\n",
        "\n",
        "List all the characteristics we record."
      ]
    },
    {
      "cell_type": "code",
      "source": [
        "# Your code here:\n",
        "print(\"We track the following characteristics about each diamond:\")\n",
        "print(df.columns)"
      ],
      "metadata": {
        "colab": {
          "base_uri": "https://localhost:8080/"
        },
        "id": "XfBjBhL3LBvN",
        "outputId": "c9bdfe68-a338-4f2b-82ed-3c6b9417a2a3"
      },
      "execution_count": 17,
      "outputs": [
        {
          "output_type": "stream",
          "name": "stdout",
          "text": [
            "We track the following characteristics about each diamond:\n",
            "['Carat Weight', 'Cut', 'Color', 'Clarity', 'Polish', 'Symmetry', 'Report', 'Price']\n"
          ]
        }
      ]
    },
    {
      "cell_type": "markdown",
      "metadata": {
        "id": "ULdwvPdz2r38"
      },
      "source": [
        "### Question 3: \"When I look at one line in this database, what am I looking at?\"\n",
        "\n",
        "Explain in business terms:"
      ]
    },
    {
      "cell_type": "markdown",
      "metadata": {
        "id": "oBQYbXxp2r38"
      },
      "source": [
        "**Your answer:** Each row represents: One Diamond"
      ]
    },
    {
      "cell_type": "markdown",
      "metadata": {
        "id": "svYFV-Tv2r38"
      },
      "source": [
        "## Section 2: Strategic Business Questions (20 minutes)\n",
        "\n",
        "The CEO continues: \"Now let's get to the important questions. Our board meeting is tomorrow and I need concrete numbers.\""
      ]
    },
    {
      "cell_type": "markdown",
      "metadata": {
        "id": "DNS4gDT82r38"
      },
      "source": [
        "### Question 4: \"We're considering expanding our storage facilities. How many total carats do we have in inventory? I need to know if our vaults can handle the weight.\"\n",
        "\n",
        "Think about what measurement would help answer this."
      ]
    },
    {
      "cell_type": "code",
      "source": [
        "# Your code here:\n",
        "total_carats = df[\"Carat Weight\"].sum()\n",
        "print(f\"Total carats in inventory: {total_carats:,.3f} carats\")"
      ],
      "metadata": {
        "colab": {
          "base_uri": "https://localhost:8080/"
        },
        "id": "-QzPt8wWLVjd",
        "outputId": "0180f4a3-57e3-467f-b71b-84cd957f7b44"
      },
      "execution_count": 18,
      "outputs": [
        {
          "output_type": "stream",
          "name": "stdout",
          "text": [
            "Total carats in inventory: 8,007.120 carats\n"
          ]
        }
      ]
    },
    {
      "cell_type": "markdown",
      "metadata": {
        "id": "uDC_LLis2r39"
      },
      "source": [
        "### Question 5: \"Our new marketing campaign claims we have 'the widest variety of cuts in the industry.' Can you verify this?\"\n",
        "\n",
        "The CEO wants to know about variety, not quantity."
      ]
    },
    {
      "cell_type": "code",
      "source": [
        "# Your code here:\n",
        "unique_cuts = df[\"Cut\"].unique().to_list()\n",
        "print(f\"We have {len(unique_cuts)} unique cuts: {sorted(unique_cuts)}\")"
      ],
      "metadata": {
        "colab": {
          "base_uri": "https://localhost:8080/"
        },
        "id": "vdbDwbG9Lukw",
        "outputId": "b1874e20-09f3-41ca-d3e0-a00580bdb3d3"
      },
      "execution_count": 19,
      "outputs": [
        {
          "output_type": "stream",
          "name": "stdout",
          "text": [
            "We have 5 unique cuts: ['Fair', 'Good', 'Ideal', 'Signature-Ideal', 'Very Good']\n"
          ]
        }
      ]
    },
    {
      "cell_type": "markdown",
      "metadata": {
        "id": "2iCHbYSR2r39"
      },
      "source": [
        "### Question 6: \"I'm meeting with our insurance company. They need to know our price exposure - what's our most and least valuable diamond?\""
      ]
    },
    {
      "cell_type": "code",
      "source": [
        "# Your code here:\n",
        "most_valuable_diamond = df.select(pl.col(\"Price\").max())\n",
        "print(f\"Most valuable diamond: ${most_valuable_diamond [0,0] :,.2f}\")\n",
        "\n",
        "least_valuable_diamond = df.select(pl.col(\"Price\").min())\n",
        "print(f\"Least valuable diamond: ${least_valuable_diamond [0,0] :,.2f}\")"
      ],
      "metadata": {
        "colab": {
          "base_uri": "https://localhost:8080/"
        },
        "id": "09TtWQys6eO5",
        "outputId": "6208212f-16a6-4142-d843-a16b1bdc0be1"
      },
      "execution_count": 11,
      "outputs": [
        {
          "output_type": "stream",
          "name": "stdout",
          "text": [
            "Most valuable diamond: $101,561.00\n",
            "Least valuable diamond: $2,184.00\n"
          ]
        }
      ]
    },
    {
      "cell_type": "markdown",
      "metadata": {
        "id": "9BwxIj3S2r39"
      },
      "source": [
        "### Question 7: \"Which color grades should we focus on in our premium line? I need typical prices across our color spectrum.\"\n",
        "\n",
        "The CEO wants to understand pricing patterns."
      ]
    },
    {
      "cell_type": "code",
      "execution_count": 14,
      "metadata": {
        "colab": {
          "base_uri": "https://localhost:8080/"
        },
        "id": "XNTymvaZ2r39",
        "outputId": "babae97b-943f-4801-9718-bee72b30f275"
      },
      "outputs": [
        {
          "output_type": "stream",
          "name": "stdout",
          "text": [
            "shape: (6, 2)\n",
            "┌───────┬──────────────┐\n",
            "│ Color ┆ median_price │\n",
            "│ ---   ┆ ---          │\n",
            "│ str   ┆ f64          │\n",
            "╞═══════╪══════════════╡\n",
            "│ F     ┆ 8860.0       │\n",
            "│ G     ┆ 8800.0       │\n",
            "│ D     ┆ 7567.0       │\n",
            "│ H     ┆ 7169.0       │\n",
            "│ E     ┆ 7059.5       │\n",
            "│ I     ┆ 6655.0       │\n",
            "└───────┴──────────────┘\n"
          ]
        }
      ],
      "source": [
        "# Your code here:\n",
        "color_prices = (\n",
        "    df.group_by(\"Color\")\n",
        "      .agg(pl.median(\"Price\").alias(\"median_price\"))\n",
        "      .sort(\"median_price\", descending=True)\n",
        ")\n",
        "\n",
        "print(color_prices)"
      ]
    },
    {
      "cell_type": "markdown",
      "metadata": {
        "id": "t1SLv2w72r39"
      },
      "source": [
        "**Reflection:** After analyzing by color, how has your view of the data changed? What does each row in your result represent now?"
      ]
    },
    {
      "cell_type": "markdown",
      "metadata": {
        "id": "CCiLNJBX2r39"
      },
      "source": [
        "**Your answer:** New grain = One colour grade"
      ]
    },
    {
      "cell_type": "markdown",
      "metadata": {
        "id": "pxbqKKiQ2r39"
      },
      "source": [
        "## Section 3: Advanced Strategic Analysis (10 minutes)\n",
        "\n",
        "The CEO leans forward: \"These next questions will shape our strategy for next year.\""
      ]
    },
    {
      "cell_type": "markdown",
      "metadata": {
        "id": "ANmL0Wbw2r39"
      },
      "source": [
        "### Question 8: \"We're thinking of specializing in certain clarity grades. For our investor deck, I need a complete breakdown showing: how many diamonds we have in each clarity grade, their typical price, and the total carats we're holding for each grade.\""
      ]
    },
    {
      "cell_type": "code",
      "source": [
        "# Your code here:\n",
        "clarity_breakdown = (\n",
        "    df.group_by(\"Clarity\")\n",
        "    .agg(\n",
        "        pl.len().alias(\"number_of_diamonds\"),\n",
        "        pl.median(\"Price\").alias(\"typical_price\"),\n",
        "        pl.sum(\"Carat Weight\").alias(\"total_carats\")\n",
        "    )\n",
        "    .sort(\"total_carats\", descending=True)\n",
        ")\n",
        "\n",
        "print(\"Clarity Grade Breakdown:\")\n",
        "display(clarity_breakdown)"
      ],
      "metadata": {
        "colab": {
          "base_uri": "https://localhost:8080/",
          "height": 335
        },
        "id": "ZwpOXkOKNLvX",
        "outputId": "222ac68f-5c2d-43e8-be3a-60b22ff79112"
      },
      "execution_count": 22,
      "outputs": [
        {
          "output_type": "stream",
          "name": "stdout",
          "text": [
            "Clarity Grade Breakdown:\n"
          ]
        },
        {
          "output_type": "display_data",
          "data": {
            "text/plain": [
              "shape: (7, 4)\n",
              "┌─────────┬────────────────────┬───────────────┬──────────────┐\n",
              "│ Clarity ┆ number_of_diamonds ┆ typical_price ┆ total_carats │\n",
              "│ ---     ┆ ---                ┆ ---           ┆ ---          │\n",
              "│ str     ┆ u32                ┆ f64           ┆ f64          │\n",
              "╞═════════╪════════════════════╪═══════════════╪══════════════╡\n",
              "│ SI1     ┆ 2059               ┆ 5417.0        ┆ 2563.69      │\n",
              "│ VS2     ┆ 1575               ┆ 7568.0        ┆ 2170.81      │\n",
              "│ VS1     ┆ 1192               ┆ 9245.0        ┆ 1682.74      │\n",
              "│ VVS2    ┆ 666                ┆ 10266.0       ┆ 876.58       │\n",
              "│ VVS1    ┆ 285                ┆ 11142.0       ┆ 389.43       │\n",
              "│ IF      ┆ 219                ┆ 12647.0       ┆ 316.0        │\n",
              "│ FL      ┆ 4                  ┆ 62371.5       ┆ 7.87         │\n",
              "└─────────┴────────────────────┴───────────────┴──────────────┘"
            ],
            "text/html": [
              "<div><style>\n",
              ".dataframe > thead > tr,\n",
              ".dataframe > tbody > tr {\n",
              "  text-align: right;\n",
              "  white-space: pre-wrap;\n",
              "}\n",
              "</style>\n",
              "<small>shape: (7, 4)</small><table border=\"1\" class=\"dataframe\"><thead><tr><th>Clarity</th><th>number_of_diamonds</th><th>typical_price</th><th>total_carats</th></tr><tr><td>str</td><td>u32</td><td>f64</td><td>f64</td></tr></thead><tbody><tr><td>&quot;SI1&quot;</td><td>2059</td><td>5417.0</td><td>2563.69</td></tr><tr><td>&quot;VS2&quot;</td><td>1575</td><td>7568.0</td><td>2170.81</td></tr><tr><td>&quot;VS1&quot;</td><td>1192</td><td>9245.0</td><td>1682.74</td></tr><tr><td>&quot;VVS2&quot;</td><td>666</td><td>10266.0</td><td>876.58</td></tr><tr><td>&quot;VVS1&quot;</td><td>285</td><td>11142.0</td><td>389.43</td></tr><tr><td>&quot;IF&quot;</td><td>219</td><td>12647.0</td><td>316.0</td></tr><tr><td>&quot;FL&quot;</td><td>4</td><td>62371.5</td><td>7.87</td></tr></tbody></table></div>"
            ]
          },
          "metadata": {}
        }
      ]
    },
    {
      "cell_type": "markdown",
      "metadata": {
        "id": "9haQs32_2r3-"
      },
      "source": [
        "### Question 9: \"My luxury competitor claims they have the best prices for every cut-color combination. Show me our pricing structure across these combinations - I want to see where we're competitive.\""
      ]
    },
    {
      "cell_type": "code",
      "source": [
        "# Your code here:\n",
        "cut_color_prices = (\n",
        "    df.group_by([\"Cut\", \"Color\"])\n",
        "    .agg(pl.median(\"Price\").alias(\"typical_price\"))\n",
        "    .sort([\"Cut\", \"Color\"]) # Sort to make it easier to read\n",
        ")\n",
        "\n",
        "print(\"Typical Prices by Cut-Color Combination:\")\n",
        "display(cut_color_prices)"
      ],
      "metadata": {
        "colab": {
          "base_uri": "https://localhost:8080/",
          "height": 461
        },
        "id": "fr1_mXlxNff-",
        "outputId": "6ef83cb5-039a-4e30-fe20-abee6cb7cd42"
      },
      "execution_count": 23,
      "outputs": [
        {
          "output_type": "stream",
          "name": "stdout",
          "text": [
            "Typical Prices by Cut-Color Combination:\n"
          ]
        },
        {
          "output_type": "display_data",
          "data": {
            "text/plain": [
              "shape: (30, 3)\n",
              "┌───────────┬───────┬───────────────┐\n",
              "│ Cut       ┆ Color ┆ typical_price │\n",
              "│ ---       ┆ ---   ┆ ---           │\n",
              "│ str       ┆ str   ┆ f64           │\n",
              "╞═══════════╪═══════╪═══════════════╡\n",
              "│ Fair      ┆ D     ┆ 5040.0        │\n",
              "│ Fair      ┆ E     ┆ 4908.5        │\n",
              "│ Fair      ┆ F     ┆ 4628.0        │\n",
              "│ Fair      ┆ G     ┆ 4646.0        │\n",
              "│ Fair      ┆ H     ┆ 4358.0        │\n",
              "│ …         ┆ …     ┆ …             │\n",
              "│ Very Good ┆ E     ┆ 6703.0        │\n",
              "│ Very Good ┆ F     ┆ 8330.0        │\n",
              "│ Very Good ┆ G     ┆ 8249.0        │\n",
              "│ Very Good ┆ H     ┆ 6564.0        │\n",
              "│ Very Good ┆ I     ┆ 6684.0        │\n",
              "└───────────┴───────┴───────────────┘"
            ],
            "text/html": [
              "<div><style>\n",
              ".dataframe > thead > tr,\n",
              ".dataframe > tbody > tr {\n",
              "  text-align: right;\n",
              "  white-space: pre-wrap;\n",
              "}\n",
              "</style>\n",
              "<small>shape: (30, 3)</small><table border=\"1\" class=\"dataframe\"><thead><tr><th>Cut</th><th>Color</th><th>typical_price</th></tr><tr><td>str</td><td>str</td><td>f64</td></tr></thead><tbody><tr><td>&quot;Fair&quot;</td><td>&quot;D&quot;</td><td>5040.0</td></tr><tr><td>&quot;Fair&quot;</td><td>&quot;E&quot;</td><td>4908.5</td></tr><tr><td>&quot;Fair&quot;</td><td>&quot;F&quot;</td><td>4628.0</td></tr><tr><td>&quot;Fair&quot;</td><td>&quot;G&quot;</td><td>4646.0</td></tr><tr><td>&quot;Fair&quot;</td><td>&quot;H&quot;</td><td>4358.0</td></tr><tr><td>&hellip;</td><td>&hellip;</td><td>&hellip;</td></tr><tr><td>&quot;Very Good&quot;</td><td>&quot;E&quot;</td><td>6703.0</td></tr><tr><td>&quot;Very Good&quot;</td><td>&quot;F&quot;</td><td>8330.0</td></tr><tr><td>&quot;Very Good&quot;</td><td>&quot;G&quot;</td><td>8249.0</td></tr><tr><td>&quot;Very Good&quot;</td><td>&quot;H&quot;</td><td>6564.0</td></tr><tr><td>&quot;Very Good&quot;</td><td>&quot;I&quot;</td><td>6684.0</td></tr></tbody></table></div>"
            ]
          },
          "metadata": {}
        }
      ]
    },
    {
      "cell_type": "markdown",
      "metadata": {
        "id": "DK1onrb52r3-"
      },
      "source": [
        "**Reflection:** How specific is your analysis now? What level of detail does each row represent?"
      ]
    },
    {
      "cell_type": "markdown",
      "metadata": {
        "id": "3xWWLNbQ2r3-"
      },
      "source": [
        "**Your answer:** New grain = Mean price for each cut-colour combination"
      ]
    },
    {
      "cell_type": "markdown",
      "metadata": {
        "id": "_ri2riok2r3-"
      },
      "source": [
        "### Question 10: URGENT - \"Our biggest client is interested in purchasing entire inventory segments. They asked: 'Which color-cut combinations represent your highest total inventory value?' Show me the top 5 most valuable inventory segments by total worth, and include how many diamonds are in each segment.\"\n",
        "\n",
        "This is critical for tomorrow's negotiation."
      ]
    },
    {
      "cell_type": "code",
      "source": [
        "# Your code here:\n",
        "color_cut_value = (\n",
        "    df.group_by([\"Color\", \"Cut\"])\n",
        "    .agg(\n",
        "        pl.sum(\"Price\").alias(\"total_value\"),\n",
        "        pl.len().alias(\"number_of_diamonds\")\n",
        "    )\n",
        "    .sort(\"total_value\", descending=True)\n",
        "    .head(5)\n",
        ")\n",
        "\n",
        "print(\"Top 5 Most Valuable Inventory Segments (Color-Cut Combination):\")\n",
        "display(color_cut_value)"
      ],
      "metadata": {
        "colab": {
          "base_uri": "https://localhost:8080/",
          "height": 273
        },
        "id": "3QjXt7KzNpko",
        "outputId": "16dab905-e08d-4be2-bab7-d08acbc4ecad"
      },
      "execution_count": 12,
      "outputs": [
        {
          "output_type": "stream",
          "name": "stdout",
          "text": [
            "Top 5 Most Valuable Inventory Segments (Color-Cut Combination):\n"
          ]
        },
        {
          "output_type": "display_data",
          "data": {
            "text/plain": [
              "shape: (5, 4)\n",
              "┌───────┬───────────┬─────────────┬────────────────────┐\n",
              "│ Color ┆ Cut       ┆ total_value ┆ number_of_diamonds │\n",
              "│ ---   ┆ ---       ┆ ---         ┆ ---                │\n",
              "│ str   ┆ str       ┆ i64         ┆ u32                │\n",
              "╞═══════╪═══════════╪═════════════╪════════════════════╡\n",
              "│ G     ┆ Ideal     ┆ 9363514     ┆ 690                │\n",
              "│ G     ┆ Very Good ┆ 7140620     ┆ 578                │\n",
              "│ F     ┆ Very Good ┆ 5648327     ┆ 455                │\n",
              "│ F     ┆ Ideal     ┆ 5346782     ┆ 363                │\n",
              "│ H     ┆ Ideal     ┆ 5279687     ┆ 458                │\n",
              "└───────┴───────────┴─────────────┴────────────────────┘"
            ],
            "text/html": [
              "<div><style>\n",
              ".dataframe > thead > tr,\n",
              ".dataframe > tbody > tr {\n",
              "  text-align: right;\n",
              "  white-space: pre-wrap;\n",
              "}\n",
              "</style>\n",
              "<small>shape: (5, 4)</small><table border=\"1\" class=\"dataframe\"><thead><tr><th>Color</th><th>Cut</th><th>total_value</th><th>number_of_diamonds</th></tr><tr><td>str</td><td>str</td><td>i64</td><td>u32</td></tr></thead><tbody><tr><td>&quot;G&quot;</td><td>&quot;Ideal&quot;</td><td>9363514</td><td>690</td></tr><tr><td>&quot;G&quot;</td><td>&quot;Very Good&quot;</td><td>7140620</td><td>578</td></tr><tr><td>&quot;F&quot;</td><td>&quot;Very Good&quot;</td><td>5648327</td><td>455</td></tr><tr><td>&quot;F&quot;</td><td>&quot;Ideal&quot;</td><td>5346782</td><td>363</td></tr><tr><td>&quot;H&quot;</td><td>&quot;Ideal&quot;</td><td>5279687</td><td>458</td></tr></tbody></table></div>"
            ]
          },
          "metadata": {}
        }
      ]
    },
    {
      "cell_type": "markdown",
      "metadata": {
        "id": "N7wWiWWo2r3-"
      },
      "source": [
        "## Debrief\n",
        "\n",
        "Congratulations! You've just completed your first day as the diamond company's data analyst.\n",
        "\n",
        "Remember:\n",
        "- CEOs speak in business language, not technical terms\n",
        "- Always understand what each row represents before analyzing\n",
        "- Business questions contain clues about which operations to use"
      ]
    }
  ],
  "metadata": {
    "kernelspec": {
      "display_name": "Python 3",
      "language": "python",
      "name": "python3"
    },
    "language_info": {
      "codemirror_mode": {
        "name": "ipython",
        "version": 3
      },
      "file_extension": ".py",
      "mimetype": "text/x-python",
      "name": "python",
      "nbconvert_exporter": "python",
      "pygments_lexer": "ipython3",
      "version": "3.12.0"
    },
    "colab": {
      "provenance": []
    }
  },
  "nbformat": 4,
  "nbformat_minor": 0
}